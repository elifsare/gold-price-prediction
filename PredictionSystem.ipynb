{
 "cells": [
  {
   "cell_type": "code",
   "execution_count": 1,
   "id": "62118fcc",
   "metadata": {},
   "outputs": [
    {
     "data": {
      "text/html": [
       "<div>\n",
       "<style scoped>\n",
       "    .dataframe tbody tr th:only-of-type {\n",
       "        vertical-align: middle;\n",
       "    }\n",
       "\n",
       "    .dataframe tbody tr th {\n",
       "        vertical-align: top;\n",
       "    }\n",
       "\n",
       "    .dataframe thead th {\n",
       "        text-align: right;\n",
       "    }\n",
       "</style>\n",
       "<table border=\"1\" class=\"dataframe\">\n",
       "  <thead>\n",
       "    <tr style=\"text-align: right;\">\n",
       "      <th></th>\n",
       "      <th>Date</th>\n",
       "      <th>SPX</th>\n",
       "      <th>GLD</th>\n",
       "      <th>USO</th>\n",
       "      <th>SLV</th>\n",
       "      <th>EUR/USD</th>\n",
       "    </tr>\n",
       "  </thead>\n",
       "  <tbody>\n",
       "    <tr>\n",
       "      <th>0</th>\n",
       "      <td>1/2/2008</td>\n",
       "      <td>1447.160034</td>\n",
       "      <td>84.860001</td>\n",
       "      <td>78.470001</td>\n",
       "      <td>15.180</td>\n",
       "      <td>1.471692</td>\n",
       "    </tr>\n",
       "    <tr>\n",
       "      <th>1</th>\n",
       "      <td>1/3/2008</td>\n",
       "      <td>1447.160034</td>\n",
       "      <td>85.570000</td>\n",
       "      <td>78.370003</td>\n",
       "      <td>15.285</td>\n",
       "      <td>1.474491</td>\n",
       "    </tr>\n",
       "    <tr>\n",
       "      <th>2</th>\n",
       "      <td>1/4/2008</td>\n",
       "      <td>1411.630005</td>\n",
       "      <td>85.129997</td>\n",
       "      <td>77.309998</td>\n",
       "      <td>15.167</td>\n",
       "      <td>1.475492</td>\n",
       "    </tr>\n",
       "    <tr>\n",
       "      <th>3</th>\n",
       "      <td>1/7/2008</td>\n",
       "      <td>1416.180054</td>\n",
       "      <td>84.769997</td>\n",
       "      <td>75.500000</td>\n",
       "      <td>15.053</td>\n",
       "      <td>1.468299</td>\n",
       "    </tr>\n",
       "    <tr>\n",
       "      <th>4</th>\n",
       "      <td>1/8/2008</td>\n",
       "      <td>1390.189941</td>\n",
       "      <td>86.779999</td>\n",
       "      <td>76.059998</td>\n",
       "      <td>15.590</td>\n",
       "      <td>1.557099</td>\n",
       "    </tr>\n",
       "  </tbody>\n",
       "</table>\n",
       "</div>"
      ],
      "text/plain": [
       "       Date          SPX        GLD        USO     SLV   EUR/USD\n",
       "0  1/2/2008  1447.160034  84.860001  78.470001  15.180  1.471692\n",
       "1  1/3/2008  1447.160034  85.570000  78.370003  15.285  1.474491\n",
       "2  1/4/2008  1411.630005  85.129997  77.309998  15.167  1.475492\n",
       "3  1/7/2008  1416.180054  84.769997  75.500000  15.053  1.468299\n",
       "4  1/8/2008  1390.189941  86.779999  76.059998  15.590  1.557099"
      ]
     },
     "execution_count": 1,
     "metadata": {},
     "output_type": "execute_result"
    }
   ],
   "source": [
    "import pandas as pd \n",
    "data = pd.read_csv('gld_price_data.csv')\n",
    "data.head()"
   ]
  },
  {
   "cell_type": "code",
   "execution_count": 2,
   "id": "256f62ac",
   "metadata": {},
   "outputs": [
    {
     "data": {
      "text/plain": [
       "Date       0\n",
       "SPX        0\n",
       "GLD        0\n",
       "USO        0\n",
       "SLV        0\n",
       "EUR/USD    0\n",
       "dtype: int64"
      ]
     },
     "execution_count": 2,
     "metadata": {},
     "output_type": "execute_result"
    }
   ],
   "source": [
    "data.isnull().sum()"
   ]
  },
  {
   "cell_type": "code",
   "execution_count": 3,
   "id": "5e0bd22e",
   "metadata": {},
   "outputs": [
    {
     "data": {
      "text/html": [
       "<div>\n",
       "<style scoped>\n",
       "    .dataframe tbody tr th:only-of-type {\n",
       "        vertical-align: middle;\n",
       "    }\n",
       "\n",
       "    .dataframe tbody tr th {\n",
       "        vertical-align: top;\n",
       "    }\n",
       "\n",
       "    .dataframe thead th {\n",
       "        text-align: right;\n",
       "    }\n",
       "</style>\n",
       "<table border=\"1\" class=\"dataframe\">\n",
       "  <thead>\n",
       "    <tr style=\"text-align: right;\">\n",
       "      <th></th>\n",
       "      <th>SPX</th>\n",
       "      <th>GLD</th>\n",
       "      <th>USO</th>\n",
       "      <th>SLV</th>\n",
       "      <th>EUR/USD</th>\n",
       "    </tr>\n",
       "  </thead>\n",
       "  <tbody>\n",
       "    <tr>\n",
       "      <th>count</th>\n",
       "      <td>2290.000000</td>\n",
       "      <td>2290.000000</td>\n",
       "      <td>2290.000000</td>\n",
       "      <td>2290.000000</td>\n",
       "      <td>2290.000000</td>\n",
       "    </tr>\n",
       "    <tr>\n",
       "      <th>mean</th>\n",
       "      <td>1654.315776</td>\n",
       "      <td>122.732875</td>\n",
       "      <td>31.842221</td>\n",
       "      <td>20.084997</td>\n",
       "      <td>1.283653</td>\n",
       "    </tr>\n",
       "    <tr>\n",
       "      <th>std</th>\n",
       "      <td>519.111540</td>\n",
       "      <td>23.283346</td>\n",
       "      <td>19.523517</td>\n",
       "      <td>7.092566</td>\n",
       "      <td>0.131547</td>\n",
       "    </tr>\n",
       "    <tr>\n",
       "      <th>min</th>\n",
       "      <td>676.530029</td>\n",
       "      <td>70.000000</td>\n",
       "      <td>7.960000</td>\n",
       "      <td>8.850000</td>\n",
       "      <td>1.039047</td>\n",
       "    </tr>\n",
       "    <tr>\n",
       "      <th>25%</th>\n",
       "      <td>1239.874969</td>\n",
       "      <td>109.725000</td>\n",
       "      <td>14.380000</td>\n",
       "      <td>15.570000</td>\n",
       "      <td>1.171313</td>\n",
       "    </tr>\n",
       "    <tr>\n",
       "      <th>50%</th>\n",
       "      <td>1551.434998</td>\n",
       "      <td>120.580002</td>\n",
       "      <td>33.869999</td>\n",
       "      <td>17.268500</td>\n",
       "      <td>1.303297</td>\n",
       "    </tr>\n",
       "    <tr>\n",
       "      <th>75%</th>\n",
       "      <td>2073.010070</td>\n",
       "      <td>132.840004</td>\n",
       "      <td>37.827501</td>\n",
       "      <td>22.882500</td>\n",
       "      <td>1.369971</td>\n",
       "    </tr>\n",
       "    <tr>\n",
       "      <th>max</th>\n",
       "      <td>2872.870117</td>\n",
       "      <td>184.589996</td>\n",
       "      <td>117.480003</td>\n",
       "      <td>47.259998</td>\n",
       "      <td>1.598798</td>\n",
       "    </tr>\n",
       "  </tbody>\n",
       "</table>\n",
       "</div>"
      ],
      "text/plain": [
       "               SPX          GLD          USO          SLV      EUR/USD\n",
       "count  2290.000000  2290.000000  2290.000000  2290.000000  2290.000000\n",
       "mean   1654.315776   122.732875    31.842221    20.084997     1.283653\n",
       "std     519.111540    23.283346    19.523517     7.092566     0.131547\n",
       "min     676.530029    70.000000     7.960000     8.850000     1.039047\n",
       "25%    1239.874969   109.725000    14.380000    15.570000     1.171313\n",
       "50%    1551.434998   120.580002    33.869999    17.268500     1.303297\n",
       "75%    2073.010070   132.840004    37.827501    22.882500     1.369971\n",
       "max    2872.870117   184.589996   117.480003    47.259998     1.598798"
      ]
     },
     "execution_count": 3,
     "metadata": {},
     "output_type": "execute_result"
    }
   ],
   "source": [
    "# ststistical measures of the dataset\n",
    "data.describe()"
   ]
  },
  {
   "cell_type": "code",
   "execution_count": 4,
   "id": "605a1393",
   "metadata": {},
   "outputs": [
    {
     "data": {
      "text/plain": [
       "<AxesSubplot:>"
      ]
     },
     "execution_count": 4,
     "metadata": {},
     "output_type": "execute_result"
    },
    {
     "data": {
      "image/png": "[encoded data removed]",
      "text/plain": [
       "<Figure size 576x576 with 2 Axes>"
      ]
     },
     "metadata": {
      "needs_background": "light"
     },
     "output_type": "display_data"
    }
   ],
   "source": [
    "correlation = data.corr()\n",
    "\n",
    "import matplotlib.pyplot as plt\n",
    "import seaborn as sns\n",
    "plt.figure(figsize=(8,8))\n",
    "sns.heatmap(correlation, \n",
    "            cbar = True, \n",
    "            square = True, \n",
    "            fmt = '.1f', \n",
    "            annot = True, \n",
    "            annot_kws = {'size' : 8}, \n",
    "            cmap = 'rocket')"
   ]
  },
  {
   "cell_type": "code",
   "execution_count": 5,
   "id": "f0763b18",
   "metadata": {},
   "outputs": [
    {
     "name": "stderr",
     "output_type": "stream",
     "text": [
      "C:\\Users\\Client\\anaconda3\\lib\\site-packages\\seaborn\\distributions.py:2557: FutureWarning: `distplot` is a deprecated function and will be removed in a future version. Please adapt your code to use either `displot` (a figure-level function with similar flexibility) or `histplot` (an axes-level function for histograms).\n",
      "  warnings.warn(msg, FutureWarning)\n"
     ]
    },
    {
     "data": {
      "text/plain": [
       "<AxesSubplot:xlabel='GLD', ylabel='Density'>"
      ]
     },
     "execution_count": 5,
     "metadata": {},
     "output_type": "execute_result"
    },
    {
     "data": {
      "image/png": "[encoded data removed]",
      "text/plain": [
       "<Figure size 432x288 with 1 Axes>"
      ]
     },
     "metadata": {
      "needs_background": "light"
     },
     "output_type": "display_data"
    }
   ],
   "source": [
    "import seaborn as sns\n",
    "sns.distplot(data['GLD'], color='blue')"
   ]
  },
  {
   "cell_type": "code",
   "execution_count": 6,
   "id": "269f8edf",
   "metadata": {},
   "outputs": [
    {
     "data": {
      "text/plain": [
       "array([168.50339935,  81.88620004, 115.98779986, 127.69990071,\n",
       "       120.59240139, 154.84999726, 150.34959786, 126.05310035,\n",
       "       117.46899872, 125.93650105, 116.68650102, 171.03880093,\n",
       "       141.29099814, 168.01739867, 115.01220053, 117.7624006 ,\n",
       "       138.5168033 , 170.34380059, 159.37670238, 158.01939928,\n",
       "       155.02429953, 125.19730025, 175.8541993 , 157.18730347,\n",
       "       125.28430021,  93.88339945,  77.12990028, 120.51559981,\n",
       "       119.08869904, 167.60989929,  88.27620074, 125.0697999 ,\n",
       "        91.13150068, 117.71690054, 121.08119888, 137.19760089,\n",
       "       115.59550133, 115.40030081, 147.09809968, 107.51330107,\n",
       "       104.31990227,  87.11259804, 126.49400057, 117.91089989,\n",
       "       153.93429857, 119.64649996, 108.51009994, 108.28239823,\n",
       "        93.19410071, 127.14879769,  74.71480045, 113.71429942,\n",
       "       121.15930029, 111.16929899, 118.92589904, 120.40529933,\n",
       "       159.08089929, 168.27560117, 146.97339595,  85.84439898,\n",
       "        94.22730032,  86.83749901,  90.55030018, 119.09600061,\n",
       "       126.44730094, 127.73969994, 168.84850016, 122.29129905,\n",
       "       117.26139863,  98.14060048, 167.62030183, 142.93799874,\n",
       "       131.55880256, 121.20760202, 120.89859947, 119.83060037,\n",
       "       114.64130136, 118.06550059, 107.15590108, 127.85150041,\n",
       "       114.11039938, 106.77699981, 116.94510059, 119.64049882,\n",
       "        88.61090036,  88.17449845, 146.18910262, 127.27129966,\n",
       "       113.40980025, 110.14229828, 108.25499923,  76.57949929,\n",
       "       169.45820174, 113.94609916, 121.54139932, 127.70620204,\n",
       "       154.85669814,  91.79549964, 136.30020058, 158.27660285,\n",
       "       125.56580098, 125.58950064, 130.79620242, 114.82950087,\n",
       "       119.77189984,  92.1149001 , 110.23979889, 166.87169894,\n",
       "       157.11079952, 114.12959962, 106.68580133,  79.69659967,\n",
       "       113.21770038, 125.8886009 , 107.22749979, 119.13250065,\n",
       "       155.94560366, 159.81409884, 119.99420024, 134.14730343,\n",
       "       101.27770008, 117.61179824, 119.27429993, 113.00330083,\n",
       "       102.7955991 , 159.837298  ,  99.16350054, 146.48939887,\n",
       "       125.77430133, 169.93309954, 125.87119875, 127.38489773,\n",
       "       127.39680182, 113.69529937, 113.25590085, 123.48969917,\n",
       "       102.10289896,  88.90030027, 124.65659944, 101.29019928,\n",
       "       107.05629909, 113.7751008 , 117.22690073,  99.09249986,\n",
       "       121.93010034, 163.02609963,  87.38399867, 106.83869988,\n",
       "       117.19950088, 127.5353014 , 124.11840068,  80.76839935,\n",
       "       120.47260103, 157.22849888,  87.89890008, 110.34669921,\n",
       "       118.68559917, 171.37829874, 103.03749872, 105.28440075,\n",
       "       122.36120019, 158.2742981 ,  87.70799838,  93.06180027,\n",
       "       112.9008004 , 177.43139877, 114.65119974, 119.26769974,\n",
       "        94.77310074, 125.63720049, 166.58100064, 114.76440056,\n",
       "       116.79250121,  88.28399854, 148.81300092, 120.43539943,\n",
       "        89.58160002, 112.54669991, 117.15929968, 118.92760119,\n",
       "        88.12429925,  94.48350002, 117.29420005, 118.69000151,\n",
       "       120.29230055, 126.94099782, 121.97549976, 148.7553001 ,\n",
       "       166.06040156, 118.58639972, 120.30010132, 150.60059995,\n",
       "       118.28579908, 172.25759853, 105.53269923, 104.95000099,\n",
       "       148.86800094, 113.69330073, 124.91480075, 147.556099  ,\n",
       "       119.73840127, 115.18210056, 112.70949981, 113.42070199,\n",
       "       142.06120083, 117.77289767, 102.8577    , 115.82450097,\n",
       "       103.51440158,  98.78690042, 117.53270091,  90.68410032,\n",
       "        91.63860082, 153.59799891, 102.71299985, 154.92100074,\n",
       "       114.27170167, 138.1064014 ,  90.26439819, 115.54589923,\n",
       "       114.60379978, 122.85850034, 121.92450025, 165.20640115,\n",
       "        92.96439933, 135.32240143, 121.30119956, 120.61820073,\n",
       "       104.72290045, 141.53890246, 121.6807988 , 116.60510055,\n",
       "       113.58100123, 127.0858974 , 122.6514994 , 125.7519995 ,\n",
       "       121.17800083,  86.83619941, 132.23020177, 144.89380221,\n",
       "        92.76369981, 159.1368995 , 158.91020207, 126.54149889,\n",
       "       165.73629963, 109.00099968, 109.40450082, 103.55839857,\n",
       "        94.46190091, 127.74300281, 107.45540055, 161.56510004,\n",
       "       121.91750025, 132.30300015, 130.86970187, 160.52699917,\n",
       "        90.24289837, 175.4088021 , 127.90290094, 126.97109846,\n",
       "        86.47389979, 124.58539918, 150.69429716,  89.73670022,\n",
       "       106.951     , 109.0098997 ,  84.48549915, 136.28980005,\n",
       "       154.49350249, 139.81340303,  74.4538002 , 152.58430114,\n",
       "       126.01799983, 126.7432002 , 127.47239912, 108.61609959,\n",
       "       155.94749932, 114.62280085, 117.06690126, 125.51459963,\n",
       "       153.82280132, 121.24169997, 156.39439886,  92.96830093,\n",
       "       125.4926013 , 125.73860065,  87.87160037,  92.06659937,\n",
       "       126.23329942, 128.12510281, 112.92190027, 117.60289715,\n",
       "       120.76020013, 127.07019772, 119.46150115, 137.04029981,\n",
       "        93.96499907, 120.03510011, 113.37930111,  94.36309936,\n",
       "       108.73329976,  87.59369929, 108.93059958,  89.49859993,\n",
       "        92.44679987, 131.82170379, 162.16070012,  89.24930032,\n",
       "       119.59660103, 133.63670198, 123.76770017, 128.30840186,\n",
       "       101.82449834,  89.00259873, 132.16170128, 119.49460021,\n",
       "       108.45539999, 169.76330094, 115.24320048,  86.53129866,\n",
       "       118.83970072,  91.20369961, 161.96910016, 116.40840036,\n",
       "       121.53739986, 160.25689767, 120.10849952, 112.8440993 ,\n",
       "       108.4735987 , 126.58490029,  76.18420043, 102.99729985,\n",
       "       127.64070255, 121.63369927,  92.57439982, 132.22090057,\n",
       "       118.24900074, 116.07499998, 154.34800256, 159.14160096,\n",
       "       109.96149997, 153.37619804, 119.1816011 , 160.69230105,\n",
       "       118.53420021, 157.5741999 , 115.12469918, 116.77590039,\n",
       "       149.32979894, 114.76090052, 125.8704986 , 166.3560991 ,\n",
       "       117.77750014, 125.16439914, 153.32170336, 153.41520261,\n",
       "       132.01550053, 114.76880016, 121.23400154, 124.76600066,\n",
       "        89.65690055, 123.3515997 , 154.82770233, 111.7487005 ,\n",
       "       106.77069986, 162.41130192, 118.68379974, 165.76519924,\n",
       "       134.05920094, 114.84999993, 152.93869854, 168.69700089,\n",
       "       114.62400038, 114.02440125, 158.54489861,  85.3497989 ,\n",
       "       127.15670067, 128.02640095, 128.82150012, 124.39470091,\n",
       "       123.76280088,  90.57270082, 153.23839991,  97.01779988,\n",
       "       137.64879948,  89.27009917, 106.72979986, 115.03860044,\n",
       "       112.75310096, 124.74989952,  91.33359899, 125.39410115,\n",
       "       162.18599882, 119.99369912, 165.1354005 , 127.10289743,\n",
       "       112.40900022, 127.45469991,  95.09119914,  91.20549968,\n",
       "       103.18049893, 120.84660001,  82.95159934, 126.41839971,\n",
       "       160.25310466, 117.40260113, 118.22319984, 119.72410005,\n",
       "       123.18709979, 120.20330124, 121.34200015, 118.05130052,\n",
       "       106.71519992, 148.20899924, 126.2478985 , 115.67560114,\n",
       "        73.83460002, 127.7666013 , 153.82330042, 122.64400019,\n",
       "       125.65400056,  88.73650028, 103.46549858, 124.61190056,\n",
       "       120.32460012,  73.38010078, 151.67730042, 120.94410064,\n",
       "       104.74829979,  86.4690977 , 115.04559925, 172.25569893,\n",
       "       119.99990067, 159.89459884, 113.18369982, 121.61250024,\n",
       "       118.61010057,  95.94399987, 118.82560006, 126.04300034,\n",
       "       118.44479984,  96.11110092, 154.06500159, 122.20949993,\n",
       "       147.67029951, 158.65100241, 113.80360034, 122.49409946,\n",
       "       149.61819813, 127.05430046, 165.43290089, 136.58060048,\n",
       "       119.88649966, 167.32029902, 108.55379926, 121.70119903,\n",
       "       139.27910084, 106.3617992 ])"
      ]
     },
     "execution_count": 6,
     "metadata": {},
     "output_type": "execute_result"
    }
   ],
   "source": [
    "X = data.drop(['Date','GLD'], axis=1)\n",
    "y = data['GLD']\n",
    "\n",
    "from sklearn.model_selection import train_test_split, cross_val_score, cross_val_predict\n",
    "X_train, X_test, y_train, y_test = train_test_split(X,\n",
    "                                                   y,\n",
    "                                                   test_size = 0.2,\n",
    "                                                   random_state = 2)\n",
    "\n",
    "from sklearn.ensemble import RandomForestRegressor\n",
    "rf_model = RandomForestRegressor()\n",
    "rf_model.fit(X_train, y_train)\n",
    "\n",
    "y_pred = rf_model.predict(X_test)\n",
    "y_pred"
   ]
  },
  {
   "cell_type": "code",
   "execution_count": 9,
   "id": "49c09c89",
   "metadata": {},
   "outputs": [],
   "source": [
    "rf_params = {'max_depth' : list(range(1,100)),\n",
    "            'max_features' : [2,3,5,10, 15],\n",
    "            'n_estimators' : [200, 500, 1000, 2000]}\n",
    "rf_model = RandomForestRegressor(n_estimators=100)\n",
    "\n",
    "from sklearn.model_selection import GridSearchCV\n",
    "rf_cv_model = GridSearchCV(rf_model,\n",
    "                          rf_params,\n",
    "                          cv = 10,\n",
    "                          n_jobs = -1)\n",
    "\n"
   ]
  },
  {
   "cell_type": "code",
   "execution_count": 10,
   "id": "fe88229e",
   "metadata": {},
   "outputs": [
    {
     "name": "stderr",
     "output_type": "stream",
     "text": [
      "C:\\Users\\Client\\anaconda3\\lib\\site-packages\\sklearn\\model_selection\\_search.py:918: UserWarning: One or more of the test scores are non-finite: [0.63105279 0.63417623 0.6330417  ...        nan        nan        nan]\n",
      "  warnings.warn(\n"
     ]
    },
    {
     "data": {
      "text/plain": [
       "GridSearchCV(cv=10, estimator=RandomForestRegressor(), n_jobs=-1,\n",
       "             param_grid={'max_depth': [1, 2, 3, 4, 5, 6, 7, 8, 9, 10, 11, 12,\n",
       "                                       13, 14, 15, 16, 17, 18, 19, 20, 21, 22,\n",
       "                                       23, 24, 25, 26, 27, 28, 29, 30, ...],\n",
       "                         'max_features': [2, 3, 5, 10, 15],\n",
       "                         'n_estimators': [200, 500, 1000, 2000]})"
      ]
     },
     "execution_count": 10,
     "metadata": {},
     "output_type": "execute_result"
    }
   ],
   "source": [
    "rf_cv_model.fit(X_train, y_train)"
   ]
  },
  {
   "cell_type": "code",
   "execution_count": 14,
   "id": "2aeac534",
   "metadata": {},
   "outputs": [
    {
     "data": {
      "text/plain": [
       "{'max_depth': 29, 'max_features': 3, 'n_estimators': 200}"
      ]
     },
     "execution_count": 14,
     "metadata": {},
     "output_type": "execute_result"
    }
   ],
   "source": [
    "rf_cv_model.best_params_"
   ]
  },
  {
   "cell_type": "code",
   "execution_count": 23,
   "id": "73534d3c",
   "metadata": {},
   "outputs": [
    {
     "name": "stdout",
     "output_type": "stream",
     "text": [
      "mean_squared_error : 2.325864323226335\n",
      "r2_score : 0.9897436505647457\n"
     ]
    }
   ],
   "source": [
    "import numpy as np\n",
    "from sklearn.metrics import mean_squared_error, r2_score\n",
    "\n",
    "from sklearn.metrics import mean_squared_error, r2_score\n",
    "from sklearn import metrics\n",
    "\n",
    "rf_tuned = RandomForestRegressor(max_depth=40, max_features=3, n_estimators = 200)\n",
    "rf_tuned.fit(X_train, y_train)\n",
    "\n",
    "y_pred = rf_tuned.predict(X_test)\n",
    "\n",
    "mse = np.sqrt(mean_squared_error(y_test, y_pred))\n",
    "print('mean_squared_error : {}'.format(mse))\n",
    "\n",
    "r2_score = metrics.r2_score(y_test, y_pred)\n",
    "print('r2_score : {}'.format(r2_score))"
   ]
  }
 ],
 "metadata": {
  "kernelspec": {
   "display_name": "Python 3",
   "language": "python",
   "name": "python3"
  },
  "language_info": {
   "codemirror_mode": {
    "name": "ipython",
    "version": 3
   },
   "file_extension": ".py",
   "mimetype": "text/x-python",
   "name": "python",
   "nbconvert_exporter": "python",
   "pygments_lexer": "ipython3",
   "version": "3.8.8"
  }
 },
 "nbformat": 4,
 "nbformat_minor": 5
}
